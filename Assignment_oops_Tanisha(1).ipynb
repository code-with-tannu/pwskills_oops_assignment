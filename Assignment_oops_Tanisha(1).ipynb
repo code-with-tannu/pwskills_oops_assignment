{
 "cells": [
  {
   "cell_type": "code",
   "execution_count": null,
   "id": "523f9a2d-e2a4-4260-8c87-1f688b6763fa",
   "metadata": {},
   "outputs": [],
   "source": [
    "## oops assignment"
   ]
  },
  {
   "cell_type": "code",
   "execution_count": 1,
   "id": "fc77ea8f-8f7f-45bf-ae7f-9a95e042e20a",
   "metadata": {},
   "outputs": [
    {
     "name": "stdout",
     "output_type": "stream",
     "text": [
      "Hello Students! Welcome to the class.\n"
     ]
    }
   ],
   "source": [
    "##✅ 2. Write a basic function to greet students\n",
    "\n",
    "def greet_students():\n",
    "    print(\"Hello Students! Welcome to the class.\")\n",
    "\n",
    "greet_students()\n",
    "\n"
   ]
  },
  {
   "cell_type": "code",
   "execution_count": null,
   "id": "30789bc2-d665-4d11-addd-dad803dda823",
   "metadata": {},
   "outputs": [],
   "source": [
    " ##✅ 1. Explain the importance of Functions\n",
    "\n",
    "Reducing code repetition\n",
    "\n",
    "\n",
    "Improving code readability\n",
    "\n",
    "\n",
    "Easier debugging and maintenance\n",
    "\n",
    "\n",
    "Breaking complex problems into smaller modules\n",
    "\n",
    "\n",
    "Promoting code reusability\n",
    "\n"
   ]
  },
  {
   "cell_type": "code",
   "execution_count": null,
   "id": "c73c4a55-804e-496a-95bc-18d293bc8b42",
   "metadata": {},
   "outputs": [],
   "source": [
    "##✅ 3. What is the difference between print and return statements\n",
    "Answer:\n",
    "print() displays the output on the screen.\n",
    "\n",
    "\n",
    "return sends a value back to the caller function, allowing it to be stored or used further.\n"
   ]
  },
  {
   "cell_type": "code",
   "execution_count": 3,
   "id": "53a2699c-71a6-49ca-82b1-c5710c7cf56b",
   "metadata": {},
   "outputs": [
    {
     "name": "stdout",
     "output_type": "stream",
     "text": [
      "Hello\n"
     ]
    }
   ],
   "source": [
    "def show():\n",
    "    return \"Hello\"\n",
    "\n",
    "print(show())  # uses print to display what return gives\n"
   ]
  },
  {
   "cell_type": "code",
   "execution_count": null,
   "id": "2a557459-ac2e-4e2a-a1f8-928304fc8e3f",
   "metadata": {},
   "outputs": [],
   "source": [
    "##✅ **4. What are *args and kwargs\n",
    "\n",
    "*args: allows passing any number of positional arguments as a tuple.\n",
    "\n",
    "\n",
    "**kwargs: allows passing any number of keyword arguments as a dictionary.\n"
   ]
  },
  {
   "cell_type": "code",
   "execution_count": 4,
   "id": "db424d68-c02c-4530-8c8a-386980dd22e6",
   "metadata": {},
   "outputs": [
    {
     "name": "stdout",
     "output_type": "stream",
     "text": [
      "(1, 2, 3)\n",
      "{'name': 'Tanisha', 'age': 20}\n"
     ]
    }
   ],
   "source": [
    "def demo(*args, **kwargs):\n",
    "    print(args)\n",
    "    print(kwargs)\n",
    "\n",
    "demo(1, 2, 3, name='Tanisha', age=20)\n",
    "\n"
   ]
  },
  {
   "cell_type": "code",
   "execution_count": null,
   "id": "f065da09-07ec-487b-bdf6-f22246b52aa9",
   "metadata": {},
   "outputs": [],
   "source": [
    "##✅ 5. Explain the iterator function\n",
    "Answer:\n",
    " An iterator is an object in Python which allows traversing through all elements of a collection (like a list). It must implement __iter__() and __next__() methods.\n"
   ]
  },
  {
   "cell_type": "code",
   "execution_count": 5,
   "id": "1a30748f-ccdd-42e3-b74d-c11a1e06fef9",
   "metadata": {},
   "outputs": [
    {
     "name": "stdout",
     "output_type": "stream",
     "text": [
      "1\n",
      "2\n"
     ]
    }
   ],
   "source": [
    "nums = [1, 2, 3]\n",
    "it = iter(nums)\n",
    "print(next(it))  # 1\n",
    "print(next(it))  # 2\n"
   ]
  },
  {
   "cell_type": "code",
   "execution_count": 6,
   "id": "222362e4-8855-403e-94b6-7dcfc688bef4",
   "metadata": {},
   "outputs": [
    {
     "name": "stdout",
     "output_type": "stream",
     "text": [
      "1\n",
      "4\n",
      "9\n",
      "16\n",
      "25\n"
     ]
    }
   ],
   "source": [
    "##✅ 6. Squares of numbers from 1 to n using a generator\n",
    "\n",
    "def square_gen(n):\n",
    "    for i in range(1, n+1):\n",
    "        yield i**2\n",
    "\n",
    "for num in square_gen(5):\n",
    "    print(num)\n"
   ]
  },
  {
   "cell_type": "code",
   "execution_count": 7,
   "id": "4c1b0c2e-3b6b-4d65-962c-4c7bb40ab553",
   "metadata": {},
   "outputs": [
    {
     "name": "stdout",
     "output_type": "stream",
     "text": [
      "1\n",
      "2\n",
      "3\n",
      "4\n",
      "5\n",
      "6\n",
      "7\n",
      "8\n",
      "9\n",
      "11\n",
      "22\n",
      "33\n",
      "44\n",
      "55\n",
      "66\n",
      "77\n",
      "88\n",
      "99\n",
      "101\n",
      "111\n",
      "121\n",
      "131\n",
      "141\n",
      "151\n",
      "161\n",
      "171\n",
      "181\n",
      "191\n"
     ]
    }
   ],
   "source": [
    "##✅ 7. Palindromic numbers up to n using a generator\n",
    "def is_palindrome(num):\n",
    "    return str(num) == str(num)[::-1]\n",
    "\n",
    "def palindrome_gen(n):\n",
    "    for i in range(1, n+1):\n",
    "        if is_palindrome(i):\n",
    "            yield i\n",
    "\n",
    "for p in palindrome_gen(200):\n",
    "    print(p)\n",
    "\n"
   ]
  },
  {
   "cell_type": "code",
   "execution_count": 8,
   "id": "7ac5689e-fd0f-48c1-bf2b-1182799a1aee",
   "metadata": {},
   "outputs": [
    {
     "name": "stdout",
     "output_type": "stream",
     "text": [
      "2\n",
      "4\n",
      "6\n",
      "8\n",
      "10\n"
     ]
    }
   ],
   "source": [
    "##✅ 8. Even numbers from 2 to n using a generator\n",
    "\n",
    "def even_gen(n):\n",
    "    for i in range(2, n+1, 2):\n",
    "        yield i\n",
    "\n",
    "for e in even_gen(10):\n",
    "    print(e)\n"
   ]
  },
  {
   "cell_type": "code",
   "execution_count": 9,
   "id": "760c0872-bfa6-401f-bb48-b679a3c3959d",
   "metadata": {},
   "outputs": [
    {
     "name": "stdout",
     "output_type": "stream",
     "text": [
      "1\n",
      "2\n",
      "4\n",
      "8\n",
      "16\n"
     ]
    }
   ],
   "source": [
    "##✅ 9. Powers of two up to n using a generator\n",
    "def power_of_two_gen(n):\n",
    "    for i in range(n):\n",
    "        yield 2 ** i\n",
    "\n",
    "for p in power_of_two_gen(5):\n",
    "    print(p)\n",
    "\n"
   ]
  },
  {
   "cell_type": "code",
   "execution_count": 10,
   "id": "ef20046e-4692-4eb7-985f-c36312bd389a",
   "metadata": {},
   "outputs": [
    {
     "name": "stdout",
     "output_type": "stream",
     "text": [
      "2\n",
      "3\n",
      "5\n",
      "7\n",
      "11\n",
      "13\n",
      "17\n",
      "19\n"
     ]
    }
   ],
   "source": [
    "##✅ 10. Prime numbers up to n using a generator\n",
    "def is_prime(num):\n",
    "    if num < 2:\n",
    "        return False\n",
    "    for i in range(2, int(num**0.5)+1):\n",
    "        if num % i == 0:\n",
    "            return False\n",
    "    return True\n",
    "\n",
    "def prime_gen(n):\n",
    "    for i in range(2, n+1):\n",
    "        if is_prime(i):\n",
    "            yield i\n",
    "\n",
    "for p in prime_gen(20):\n",
    "    print(p)\n"
   ]
  },
  {
   "cell_type": "code",
   "execution_count": 11,
   "id": "e37e4ab9-7bca-43fe-bc62-f3a520f0ff6f",
   "metadata": {},
   "outputs": [
    {
     "name": "stdout",
     "output_type": "stream",
     "text": [
      "15\n"
     ]
    }
   ],
   "source": [
    "##✅ 11. Lambda function to calculate the sum of two numbers\n",
    "add = lambda a, b: a + b\n",
    "print(add(10, 5))  # Output: 15\n",
    "\n"
   ]
  },
  {
   "cell_type": "code",
   "execution_count": 12,
   "id": "271635d3-db68-4c22-8a48-95d8b9760d90",
   "metadata": {},
   "outputs": [
    {
     "name": "stdout",
     "output_type": "stream",
     "text": [
      "16\n"
     ]
    }
   ],
   "source": [
    "##✅ 12. Lambda function to calculate the square of a given number\n",
    "square = lambda x: x ** 2\n",
    "print(square(4))  # Output: 16\n"
   ]
  },
  {
   "cell_type": "code",
   "execution_count": 13,
   "id": "4c37022d-8936-41ae-bd28-b5652407a7fe",
   "metadata": {},
   "outputs": [
    {
     "name": "stdout",
     "output_type": "stream",
     "text": [
      "Odd\n"
     ]
    }
   ],
   "source": [
    "##✅ 13. Lambda function to check whether a number is even or odd\n",
    "check = lambda x: \"Even\" if x % 2 == 0 else \"Odd\"\n",
    "print(check(7))  # Output: Odd\n",
    "\n"
   ]
  },
  {
   "cell_type": "code",
   "execution_count": 18,
   "id": "287f64c9-abb5-4d01-9f4e-ea045ff108fa",
   "metadata": {},
   "outputs": [
    {
     "name": "stdout",
     "output_type": "stream",
     "text": [
      "Hello, World\n"
     ]
    }
   ],
   "source": [
    "##✅ 14. Lambda function to concatenate two strings\n",
    "concat = lambda a, b: a + b\n",
    "print(concat(\"Hello, \", \"World\"))  # Output: Hello, World\n"
   ]
  },
  {
   "cell_type": "code",
   "execution_count": 20,
   "id": "47ebaad6-81ca-47db-8962-91a58f309f5e",
   "metadata": {},
   "outputs": [
    {
     "name": "stdout",
     "output_type": "stream",
     "text": [
      "25\n"
     ]
    }
   ],
   "source": [
    "##✅ 15. Lambda function to find the maximum of three given numbers\n",
    "\n",
    "maximum = lambda a, b, c: max(a, b, c)\n",
    "print(maximum(10, 25, 7))  # Output: 25"
   ]
  },
  {
   "cell_type": "code",
   "execution_count": 22,
   "id": "7490608b-23ec-4e76-8371-649615a94de7",
   "metadata": {},
   "outputs": [
    {
     "name": "stdout",
     "output_type": "stream",
     "text": [
      "[4, 16, 36]\n"
     ]
    }
   ],
   "source": [
    "##✅ 16. Write a code that generates the squares of even numbers from a given list\n",
    "\n",
    "nums = [1, 2, 3, 4, 5, 6]\n",
    "even_squares = [x**2 for x in nums if x % 2 == 0]\n",
    "print(even_squares)  # Output: [4, 16, 36]\n"
   ]
  },
  {
   "cell_type": "code",
   "execution_count": 23,
   "id": "dbf65126-81ae-452a-9c1e-c57c4d1bc320",
   "metadata": {},
   "outputs": [
    {
     "name": "stdout",
     "output_type": "stream",
     "text": [
      "40\n"
     ]
    }
   ],
   "source": [
    "##✅ 17. Write a code that calculates the product of positive numbers from a given list\n",
    "from functools import reduce\n",
    "\n",
    "nums = [-3, 4, 5, -1, 2]\n",
    "positive = list(filter(lambda x: x > 0, nums))\n",
    "product = reduce(lambda x, y: x * y, positive)\n",
    "print(product)  # Output: 40\n",
    "\n"
   ]
  },
  {
   "cell_type": "code",
   "execution_count": null,
   "id": "2c6aaf0f-889d-4703-b419-56040820eb32",
   "metadata": {},
   "outputs": [],
   "source": [
    "##✅ 18. Write a code that doubles the values of odd numbers from a given list\n",
    "nums = [1, 2, 3, 4, 5]\n",
    "doubled_odds = [x * 2 for x in nums if x % 2 != 0]\n",
    "print(doubled_odds)  # Output: [2, 6, 10]\n",
    "\n"
   ]
  },
  {
   "cell_type": "code",
   "execution_count": 24,
   "id": "e9b0b805-8845-4055-b5bb-7dec5f23419f",
   "metadata": {},
   "outputs": [
    {
     "name": "stdout",
     "output_type": "stream",
     "text": [
      "36\n"
     ]
    }
   ],
   "source": [
    "##✅ 19. Write a code that calculates the sum of cubes of numbers from a given list\n",
    "nums = [1, 2, 3]\n",
    "sum_cubes = sum(map(lambda x: x**3, nums))\n",
    "print(sum_cubes)  # Output: 36\n",
    "\n"
   ]
  },
  {
   "cell_type": "code",
   "execution_count": 25,
   "id": "e9a3a717-3f16-4b6f-8975-1eefe0454b53",
   "metadata": {},
   "outputs": [
    {
     "name": "stdout",
     "output_type": "stream",
     "text": [
      "[2, 3, 5, 7]\n"
     ]
    }
   ],
   "source": [
    "##✅ 20. Write a code that filters out prime numbers from a given list\n",
    "def is_prime(n):\n",
    "    if n < 2:\n",
    "        return False\n",
    "    for i in range(2, int(n**0.5)+1):\n",
    "        if n % i == 0:\n",
    "            return False\n",
    "    return True\n",
    "\n",
    "nums = [1, 2, 3, 4, 5, 6, 7]\n",
    "primes = list(filter(is_prime, nums))\n",
    "print(primes)  # Output: [2, 3, 5, 7]\n"
   ]
  },
  {
   "cell_type": "code",
   "execution_count": 27,
   "id": "e5542225-0973-4235-b888-5df741c23a36",
   "metadata": {},
   "outputs": [
    {
     "name": "stdout",
     "output_type": "stream",
     "text": [
      "30\n"
     ]
    }
   ],
   "source": [
    "##✅ 21. Lambda function to calculate the sum of two numbers\n",
    "\n",
    "add = lambda a, b: a + b\n",
    "print(add(10, 20))  # Output: 30\n",
    "\n"
   ]
  },
  {
   "cell_type": "code",
   "execution_count": 28,
   "id": "1e414c00-952f-4c74-8e1a-572d287fe0b4",
   "metadata": {},
   "outputs": [
    {
     "name": "stdout",
     "output_type": "stream",
     "text": [
      "25\n"
     ]
    }
   ],
   "source": [
    "##✅ 22. Lambda function to calculate the square of a given number\n",
    "square = lambda x: x ** 2\n",
    "print(square(5))  # Output: 25\n",
    "\n"
   ]
  },
  {
   "cell_type": "code",
   "execution_count": 29,
   "id": "27ad0bd4-a0d5-4c54-9843-80ee8d632ac6",
   "metadata": {},
   "outputs": [
    {
     "name": "stdout",
     "output_type": "stream",
     "text": [
      "Odd\n"
     ]
    }
   ],
   "source": [
    "##✅ 23. Lambda function to check whether a given number is even or odd\n",
    "check = lambda x: \"Even\" if x % 2 == 0 else \"Odd\"\n",
    "print(check(7))  # Output: Odd\n",
    "\n"
   ]
  },
  {
   "cell_type": "code",
   "execution_count": 30,
   "id": "9dc9a12c-3428-4123-80a6-896607e4ffa6",
   "metadata": {},
   "outputs": [
    {
     "name": "stdout",
     "output_type": "stream",
     "text": [
      "Hello, Tanisha\n"
     ]
    }
   ],
   "source": [
    "##✅ 24. Lambda function to concatenate two strings\n",
    "concat = lambda a, b: a + b\n",
    "print(concat(\"Hello, \", \"Tanisha\"))  # Output: Hello, Tanisha\n"
   ]
  },
  {
   "cell_type": "code",
   "execution_count": 31,
   "id": "3ab58d50-7302-4fcb-9dc3-b15201fdf212",
   "metadata": {},
   "outputs": [
    {
     "name": "stdout",
     "output_type": "stream",
     "text": [
      "12\n"
     ]
    }
   ],
   "source": [
    "##✅ 25. Lambda function to find the maximum of three given numbers\n",
    "maximum = lambda a, b, c: max(a, b, c)\n",
    "print(maximum(5, 12, 8))  # Output: 12\n",
    "\n"
   ]
  },
  {
   "cell_type": "code",
   "execution_count": 32,
   "id": "eff24b4d-bbe0-4321-9fed-f9343bf9a85c",
   "metadata": {},
   "outputs": [
    {
     "name": "stdout",
     "output_type": "stream",
     "text": [
      "[4, 16, 36]\n"
     ]
    }
   ],
   "source": [
    "##✅ 26. Squares of even numbers from a given list\n",
    "nums = [1, 2, 3, 4, 5, 6]\n",
    "even_squares = [x**2 for x in nums if x % 2 == 0]\n",
    "print(even_squares)  # Output: [4, 16, 36]\n",
    "\n"
   ]
  },
  {
   "cell_type": "code",
   "execution_count": 33,
   "id": "9e4c0d9e-2bf3-4eb8-9507-b667518827a8",
   "metadata": {},
   "outputs": [
    {
     "name": "stdout",
     "output_type": "stream",
     "text": [
      "30\n"
     ]
    }
   ],
   "source": [
    "##✅ 27. Product of positive numbers from a given list\n",
    "from functools import reduce\n",
    "nums = [-1, 2, 3, -4, 5]\n",
    "positive = list(filter(lambda x: x > 0, nums))\n",
    "product = reduce(lambda x, y: x * y, positive)\n",
    "print(product)  # Output: 30\n",
    "\n"
   ]
  },
  {
   "cell_type": "code",
   "execution_count": 34,
   "id": "84018a3b-2f61-4052-92c9-5e5ec8b330e0",
   "metadata": {},
   "outputs": [
    {
     "name": "stdout",
     "output_type": "stream",
     "text": [
      "[2, 6, 10]\n"
     ]
    }
   ],
   "source": [
    "##✅ 28. Double the values of odd numbers from a given list\n",
    "nums = [1, 2, 3, 4, 5]\n",
    "doubled_odds = [x*2 for x in nums if x % 2 != 0]\n",
    "print(doubled_odds)  # Output: [2, 6, 10]\n"
   ]
  },
  {
   "cell_type": "code",
   "execution_count": 35,
   "id": "e59389d1-7763-4fdd-bf5f-6abf8d66432f",
   "metadata": {},
   "outputs": [
    {
     "name": "stdout",
     "output_type": "stream",
     "text": [
      "36\n"
     ]
    }
   ],
   "source": [
    "##✅ 29. Sum of cubes of numbers from a given list\n",
    "nums = [1, 2, 3]\n",
    "sum_cubes = sum(map(lambda x: x**3, nums))\n",
    "print(sum_cubes)  # Output: 36\n",
    "\n"
   ]
  },
  {
   "cell_type": "code",
   "execution_count": 36,
   "id": "1d33c9b9-897e-4832-8800-9a930a2573f2",
   "metadata": {},
   "outputs": [
    {
     "name": "stdout",
     "output_type": "stream",
     "text": [
      "[2, 3, 5, 7]\n"
     ]
    }
   ],
   "source": [
    "##✅ 30. Filter out prime numbers from a given list\n",
    "def is_prime(n):\n",
    "    if n < 2:\n",
    "        return False\n",
    "    for i in range(2, int(n**0.5)+1):\n",
    "        if n % i == 0:\n",
    "            return False\n",
    "    return True\n",
    "\n",
    "nums = [1, 2, 3, 4, 5, 6, 7]\n",
    "primes = list(filter(is_prime, nums))\n",
    "print(primes)  # Output: [2, 3, 5, 7]\n",
    "\n"
   ]
  },
  {
   "cell_type": "code",
   "execution_count": null,
   "id": "41ac0ef8-6d4a-4274-ab7d-40cf67f5faa0",
   "metadata": {},
   "outputs": [],
   "source": [
    "✅ 31. What is encapsulation in OOP?\n",
    "Answer:\n",
    " Encapsulation is the process of hiding the internal details (data) of a class and only exposing necessary parts through methods.\n",
    " It ensures data protection and prevents unauthorized access.\n"
   ]
  },
  {
   "cell_type": "code",
   "execution_count": null,
   "id": "1f62a22d-017f-474e-9e0c-381e17ae4430",
   "metadata": {},
   "outputs": [],
   "source": [
    "##✅ 32. Explain the use of access modifiers in Python classes\n",
    "Answer:\n",
    " Python has 3 types of access modifiers:\n",
    "Public: Default; accessible from anywhere. (self.name)\n",
    "\n",
    "\n",
    "Protected: Prefixed with a single underscore _; intended for internal use. (self._name)\n",
    "\n",
    "\n",
    "Private: Prefixed with double underscores __; name mangled, not directly accessible. (self.__name)\n"
   ]
  },
  {
   "cell_type": "code",
   "execution_count": null,
   "id": "c6938c95-a5d7-4fee-9778-57b705e4aaec",
   "metadata": {},
   "outputs": [],
   "source": [
    "##✅ 33. What is inheritance in OOP\n",
    "Answer:\n",
    " Inheritance allows a class (child) to use methods and properties of another class (parent), promoting code reuse.\n"
   ]
  },
  {
   "cell_type": "code",
   "execution_count": 38,
   "id": "cfcb10ac-5e73-49f2-a79b-cb5d51ee4db0",
   "metadata": {},
   "outputs": [
    {
     "name": "stdout",
     "output_type": "stream",
     "text": [
      "Some sound\n"
     ]
    }
   ],
   "source": [
    "class Animal:\n",
    "    def sound(self):\n",
    "        print(\"Some sound\")\n",
    "\n",
    "class Dog(Animal):\n",
    "    pass\n",
    "\n",
    "d = Dog()\n",
    "d.sound()  # Output: Some sound\n"
   ]
  },
  {
   "cell_type": "code",
   "execution_count": null,
   "id": "c5a15f5c-e616-4a96-8444-0e29c330d588",
   "metadata": {},
   "outputs": [],
   "source": [
    "##✅ 34. Define polymorphism in OOP\n",
    "Answer:\n",
    " Polymorphism means same function name behaves differently for different classes/objects.\n",
    "Example:\n"
   ]
  },
  {
   "cell_type": "code",
   "execution_count": 39,
   "id": "367bc091-a70b-44ba-8c1e-fd9dcf6592f9",
   "metadata": {},
   "outputs": [
    {
     "name": "stdout",
     "output_type": "stream",
     "text": [
      "Meow\n",
      "Woof\n"
     ]
    }
   ],
   "source": [
    "class Cat:\n",
    "    def speak(self):\n",
    "        print(\"Meow\")\n",
    "\n",
    "class Dog:\n",
    "    def speak(self):\n",
    "        print(\"Woof\")\n",
    "\n",
    "for animal in (Cat(), Dog()):\n",
    "    animal.speak()\n",
    "\n"
   ]
  },
  {
   "cell_type": "code",
   "execution_count": null,
   "id": "b191e3fa-3927-473e-9cfa-01ef79ad2ff1",
   "metadata": {},
   "outputs": [],
   "source": [
    "##✅ 35. Explain method overriding in Python\n",
    "Answer:\n",
    " When a child class defines a method with the same name as in its parent, it overrides the parent’s method.\n"
   ]
  },
  {
   "cell_type": "code",
   "execution_count": 40,
   "id": "f9f26556-2c5e-4466-a83e-6e431224bba1",
   "metadata": {},
   "outputs": [
    {
     "name": "stdout",
     "output_type": "stream",
     "text": [
      "Child\n"
     ]
    }
   ],
   "source": [
    "class Parent:\n",
    "    def show(self):\n",
    "        print(\"Parent\")\n",
    "\n",
    "class Child(Parent):\n",
    "    def show(self):\n",
    "        print(\"Child\")\n",
    "\n",
    "c = Child()\n",
    "c.show()  # Output: Child\n",
    "\n"
   ]
  },
  {
   "cell_type": "code",
   "execution_count": 41,
   "id": "9efb22c1-916c-4838-a009-f3eab5e669dd",
   "metadata": {},
   "outputs": [
    {
     "name": "stdout",
     "output_type": "stream",
     "text": [
      "Woof!\n"
     ]
    }
   ],
   "source": [
    "##✅ 36. Define a parent class Animal with make_sound() and a child class Dog overriding it\n",
    "class Animal:\n",
    "    def make_sound(self):\n",
    "        print(\"Generic animal sound\")\n",
    "\n",
    "class Dog(Animal):\n",
    "    def make_sound(self):\n",
    "        print(\"Woof!\")\n",
    "\n",
    "d = Dog()\n",
    "d.make_sound()  # Output: Woof!\n",
    "\n"
   ]
  },
  {
   "cell_type": "code",
   "execution_count": 42,
   "id": "15b6efed-9e09-41e2-bb61-455cc4a349bb",
   "metadata": {},
   "outputs": [
    {
     "name": "stdout",
     "output_type": "stream",
     "text": [
      "Dog runs\n"
     ]
    }
   ],
   "source": [
    "##✅ 37. Define a method move() in Animal, override in Dog\n",
    "class Animal:\n",
    "    def move(self):\n",
    "        print(\"Animal moves\")\n",
    "\n",
    "class Dog(Animal):\n",
    "    def move(self):\n",
    "        print(\"Dog runs\")\n",
    "\n",
    "d = Dog()\n",
    "d.move()  # Output: Dog runs\n"
   ]
  },
  {
   "cell_type": "code",
   "execution_count": 43,
   "id": "69a8d888-3b83-4b06-bd40-f186abe44d1b",
   "metadata": {},
   "outputs": [
    {
     "name": "stdout",
     "output_type": "stream",
     "text": [
      "Woof\n",
      "Giving birth to live young\n"
     ]
    }
   ],
   "source": [
    "##✅ 38. Class Mammal with method reproduce, class DogMammal inherits both Dog and Mammal\n",
    "class Dog:\n",
    "    def bark(self):\n",
    "        print(\"Woof\")\n",
    "\n",
    "class Mammal:\n",
    "    def reproduce(self):\n",
    "        print(\"Giving birth to live young\")\n",
    "\n",
    "class DogMammal(Dog, Mammal):\n",
    "    pass\n",
    "\n",
    "dm = DogMammal()\n",
    "dm.bark()\n",
    "dm.reproduce()\n"
   ]
  },
  {
   "cell_type": "code",
   "execution_count": 45,
   "id": "d86cef09-6bdc-4a24-abd8-92729944aaa7",
   "metadata": {},
   "outputs": [
    {
     "name": "stdout",
     "output_type": "stream",
     "text": [
      "Bark!\n"
     ]
    }
   ],
   "source": [
    "##✅ 39. Class GermanShepherd inherits from Dog, overrides make_sound()\n",
    "class Dog:\n",
    "    def make_sound(self):\n",
    "        print(\"Woof\")\n",
    "\n",
    "class GermanShepherd(Dog):\n",
    "    def make_sound(self):\n",
    "        print(\"Bark!\")\n",
    "\n",
    "gs = GermanShepherd()\n",
    "gs.make_sound()  # Output: Bark!\n"
   ]
  },
  {
   "cell_type": "code",
   "execution_count": 46,
   "id": "5d98be8f-106a-40ca-b1ea-bacdd4494445",
   "metadata": {},
   "outputs": [
    {
     "name": "stdout",
     "output_type": "stream",
     "text": [
      "Animal created\n",
      "Dog created\n"
     ]
    }
   ],
   "source": [
    "##✅ 40. Define constructors in both Animal and Dog with different init params\n",
    "class Animal:\n",
    "    def __init__(self, species):\n",
    "        self.species = species\n",
    "        print(\"Animal created\")\n",
    "\n",
    "class Dog(Animal):\n",
    "    def __init__(self, species, breed):\n",
    "        super().__init__(species)\n",
    "        self.breed = breed\n",
    "        print(\"Dog created\")\n",
    "\n",
    "d = Dog(\"Mammal\", \"Labrador\")\n",
    "\n"
   ]
  },
  {
   "cell_type": "code",
   "execution_count": null,
   "id": "1f6b923b-7348-4534-a6e3-e599c6edc257",
   "metadata": {},
   "outputs": [],
   "source": [
    "##✅ 41. What is abstraction in Python? How is it implemented\n",
    "Answer:\n",
    " Abstraction means hiding the internal logic and showing only relevant info.\n",
    " In Python, it's done using abstract classes with the abc module.\n"
   ]
  },
  {
   "cell_type": "code",
   "execution_count": 47,
   "id": "1b0b8d23-8dd9-49d8-bc7f-edb0e9277456",
   "metadata": {},
   "outputs": [],
   "source": [
    "from abc import ABC, abstractmethod\n",
    "\n",
    "class Animal(ABC):\n",
    "    @abstractmethod\n",
    "    def make_sound(self):\n",
    "        pass\n",
    "\n"
   ]
  },
  {
   "cell_type": "code",
   "execution_count": null,
   "id": "3246b44e-26c0-4111-9640-1ed65142264f",
   "metadata": {},
   "outputs": [],
   "source": [
    "##✅ 42. Explain the importance of abstraction in object-oriented programming\n",
    "Answer:\n",
    "Reduces complexity\n",
    "\n",
    "\n",
    "Improves code readability\n",
    "\n",
    "\n",
    "Forces subclasses to implement necessary methods\n",
    "\n",
    "\n",
    "Defines a clear interface for a group of related classes\n",
    "\n",
    "\n"
   ]
  },
  {
   "cell_type": "code",
   "execution_count": null,
   "id": "e47d303e-7d41-413c-ba1a-e0917cb6e6af",
   "metadata": {},
   "outputs": [],
   "source": [
    "##✅ 43. How are abstract methods different from regular methods in Python\n",
    "\n",
    "Abstract Methods\n",
    "Defined using @abstractmethod\n",
    "No implementation in base class\n",
    "Must be overridden\n",
    "\n",
    "Regular Methods\n",
    "Normal method with body\n",
    "Full implementation\n",
    "Optional to override\n",
    "\n"
   ]
  },
  {
   "cell_type": "code",
   "execution_count": null,
   "id": "e32f513a-c651-4ed5-924f-1f9441f733e7",
   "metadata": {},
   "outputs": [],
   "source": [
    "##✅ 44. How can you achieve abstraction using interfaces in Python\n",
    "Answer:\n",
    " Python doesn't have \"interface\" keyword like Java, but we can use abstract base classes to simulate interfaces.\n"
   ]
  },
  {
   "cell_type": "code",
   "execution_count": 48,
   "id": "70059203-0d1b-4beb-b777-32d151d6a354",
   "metadata": {},
   "outputs": [],
   "source": [
    "from abc import ABC, abstractmethod\n",
    "\n",
    "class Vehicle(ABC):\n",
    "    @abstractmethod\n",
    "    def start(self):\n",
    "        pass\n",
    "\n"
   ]
  },
  {
   "cell_type": "code",
   "execution_count": 49,
   "id": "bf6e9ab0-4925-4aa0-a737-9084a60cb0d8",
   "metadata": {},
   "outputs": [
    {
     "name": "stdout",
     "output_type": "stream",
     "text": [
      "Area = πr²\n",
      "Area = side²\n"
     ]
    }
   ],
   "source": [
    "##✅ 45. Example: abstraction used to create common interface for related classes\n",
    "from abc import ABC, abstractmethod\n",
    "\n",
    "class Shape(ABC):\n",
    "    @abstractmethod\n",
    "    def area(self):\n",
    "        pass\n",
    "\n",
    "class Circle(Shape):\n",
    "    def area(self):\n",
    "        print(\"Area = πr²\")\n",
    "\n",
    "class Square(Shape):\n",
    "    def area(self):\n",
    "        print(\"Area = side²\")\n",
    "\n",
    "s1 = Circle()\n",
    "s2 = Square()\n",
    "s1.area()\n",
    "s2.area()\n"
   ]
  },
  {
   "cell_type": "code",
   "execution_count": 53,
   "id": "45215ea2-214d-453a-8079-a2be2d704b88",
   "metadata": {},
   "outputs": [
    {
     "name": "stdout",
     "output_type": "stream",
     "text": [
      "Hello from Child\n"
     ]
    }
   ],
   "source": [
    "##✅ 46. How does Python achieve polymorphism through method overriding\n",
    "\n",
    "class Parent:\n",
    "    def greet(self):\n",
    "        print(\"Hello from Parent\")\n",
    "\n",
    "class Child(Parent):\n",
    "    def greet(self):\n",
    "        print(\"Hello from Child\")\n",
    "\n",
    "c = Child()\n",
    "c.greet()  # Output: Hello from Child\n"
   ]
  },
  {
   "cell_type": "code",
   "execution_count": 56,
   "id": "cad1aee4-b22f-4e20-a67b-d2033cb9f269",
   "metadata": {},
   "outputs": [
    {
     "name": "stdout",
     "output_type": "stream",
     "text": [
      "Overridden in Sub class\n"
     ]
    }
   ],
   "source": [
    "##✅ 47. Define a base class with a method and a subclass that overrides the method\n",
    "class Base:\n",
    "    def info(self):\n",
    "        print(\"Base class method\")\n",
    "\n",
    "class Sub(Base):\n",
    "    def info(self):\n",
    "        print(\"Overridden in Sub class\")\n",
    "\n",
    "s = Sub()\n",
    "s.info()\n"
   ]
  },
  {
   "cell_type": "code",
   "execution_count": 57,
   "id": "05b00186-4e78-4809-ace1-95060c8e6b20",
   "metadata": {},
   "outputs": [
    {
     "name": "stdout",
     "output_type": "stream",
     "text": [
      "Meow\n",
      "Woof\n"
     ]
    }
   ],
   "source": [
    "##✅ 48. Define a base class and multiple subclasses with overridden methods\n",
    "class Animal:\n",
    "    def speak(self):\n",
    "        print(\"Animal speaks\")\n",
    "\n",
    "class Cat(Animal):\n",
    "    def speak(self):\n",
    "        print(\"Meow\")\n",
    "\n",
    "class Dog(Animal):\n",
    "    def speak(self):\n",
    "        print(\"Woof\")\n",
    "\n",
    "for pet in [Cat(), Dog()]:\n",
    "    pet.speak()\n"
   ]
  },
  {
   "cell_type": "code",
   "execution_count": null,
   "id": "bf408cbd-fb48-45ea-aaef-33e9895cc192",
   "metadata": {},
   "outputs": [],
   "source": [
    "##✅ 49. How does polymorphism improve code readability and reusability\n",
    "Answer:\n",
    "Lets you write generic code that works on multiple object types\n",
    "\n",
    "\n",
    "Avoids code repetition\n",
    "\n",
    "\n",
    "Easier to extend (add new classes)\n",
    "\n",
    "\n",
    "Makes function logic more reusable and cleaner\n"
   ]
  },
  {
   "cell_type": "code",
   "execution_count": null,
   "id": "b7c27093-aa88-4b71-aee5-6f64f0228077",
   "metadata": {},
   "outputs": [],
   "source": [
    "##✅ 50. Describe how Python supports polymorphism with duck typing\n",
    "Answer:\n",
    " Duck typing means: “If it looks like a duck and quacks like a duck, it’s a duck.”\n",
    "You don’t check the object’s class, just whether it has required methods.\n"
   ]
  },
  {
   "cell_type": "code",
   "execution_count": 59,
   "id": "b2d3f968-b748-4840-91b5-fc70c2840518",
   "metadata": {},
   "outputs": [
    {
     "name": "stdout",
     "output_type": "stream",
     "text": [
      "Meow\n",
      "Hello\n"
     ]
    }
   ],
   "source": [
    "class Cat:\n",
    "    def talk(self):\n",
    "        print(\"Meow\")\n",
    "\n",
    "class Person:\n",
    "    def talk(self):\n",
    "        print(\"Hello\")\n",
    "\n",
    "def speak(obj):\n",
    "    obj.talk()\n",
    "\n",
    "speak(Cat())\n",
    "speak(Person())\n"
   ]
  },
  {
   "cell_type": "code",
   "execution_count": 61,
   "id": "64b1687d-41d9-48ca-9165-00b374716baf",
   "metadata": {},
   "outputs": [],
   "source": [
    "##✅ 51. How do you achieve encapsulation in Python\n",
    "##Answer:\n",
    "## Use private attributes (with double underscores __) and provide controlled access via getter/setter methods or property decorators.\n",
    "class Student:\n",
    "    def __init__(self, name):\n",
    "        self.__name = name  # private\n",
    "\n",
    "    def get_name(self):\n",
    "        return self.__name\n",
    "\n",
    "    def set_name(self, name):\n",
    "        self.__name = name\n"
   ]
  },
  {
   "cell_type": "code",
   "execution_count": 62,
   "id": "7cc70b81-d9d9-4b9b-8010-085ca544b5d6",
   "metadata": {},
   "outputs": [
    {
     "name": "stdout",
     "output_type": "stream",
     "text": [
      "Tanisha\n"
     ]
    }
   ],
   "source": [
    "##✅ 52. Can encapsulation be bypassed in Python? If so, how\n",
    "## Yes, Python uses name mangling, so private variables can be accessed like this:\n",
    "s = Student(\"Tanisha\")\n",
    "print(s._Student__name)  # Not recommended, but possible\n",
    "\n"
   ]
  },
  {
   "cell_type": "code",
   "execution_count": 63,
   "id": "288d03b8-e738-49be-bdc0-32e271051bb0",
   "metadata": {},
   "outputs": [
    {
     "name": "stdout",
     "output_type": "stream",
     "text": [
      "800\n"
     ]
    }
   ],
   "source": [
    "##✅ 53. Implement a class BankAccount with a private balance and deposit, withdraw, check methods\n",
    "class BankAccount:\n",
    "    def __init__(self):\n",
    "        self.__balance = 0\n",
    "\n",
    "    def deposit(self, amount):\n",
    "        self.__balance += amount\n",
    "\n",
    "    def withdraw(self, amount):\n",
    "        if amount <= self.__balance:\n",
    "            self.__balance -= amount\n",
    "\n",
    "    def get_balance(self):\n",
    "        return self.__balance\n",
    "\n",
    "b = BankAccount()\n",
    "b.deposit(1000)\n",
    "b.withdraw(200)\n",
    "print(b.get_balance())  # Output: 800\n",
    "\n"
   ]
  },
  {
   "cell_type": "code",
   "execution_count": 64,
   "id": "a762295c-8a09-406b-93e5-5393dff7bd3a",
   "metadata": {},
   "outputs": [],
   "source": [
    "##✅ 54. Develop a Person class with private attributes name and email\n",
    "class Person:\n",
    "    def __init__(self):\n",
    "        self.__name = \"\"\n",
    "        self.__email = \"\"\n",
    "\n",
    "    def set_email(self, email):\n",
    "        self.__email = email\n",
    "\n",
    "    def get_email(self):\n",
    "        return self.__email\n"
   ]
  },
  {
   "cell_type": "code",
   "execution_count": null,
   "id": "d594d552-aebf-4db4-a340-4edc5e0cb1b8",
   "metadata": {},
   "outputs": [],
   "source": [
    "##✅ 55. Why is encapsulation considered a pillar of OOP?\n",
    "Answer:\n",
    " Encapsulation is important because it:\n",
    "Hides data from outside classes\n",
    "\n",
    "\n",
    "Protects object state\n",
    "\n",
    "\n",
    "Allows controlled access\n",
    "\n",
    "\n",
    "Improves modularity and maintainability\n"
   ]
  },
  {
   "cell_type": "code",
   "execution_count": 65,
   "id": "47cb6409-4bf0-4fae-855d-6d2138bdeec1",
   "metadata": {},
   "outputs": [
    {
     "name": "stdout",
     "output_type": "stream",
     "text": [
      "Starting function...\n",
      "Hello!\n",
      "Function ended.\n"
     ]
    }
   ],
   "source": [
    "##✅ 56. Create a decorator in Python that prints message before and after a function\n",
    "\n",
    "def log_decorator(func):\n",
    "    def wrapper():\n",
    "        print(\"Starting function...\")\n",
    "        func()\n",
    "        print(\"Function ended.\")\n",
    "    return wrapper\n",
    "\n",
    "@log_decorator\n",
    "def greet():\n",
    "    print(\"Hello!\")\n",
    "\n",
    "greet()\n",
    "\n"
   ]
  },
  {
   "cell_type": "code",
   "execution_count": 66,
   "id": "483f3881-7e4c-429e-9c76-351b2d7dfb49",
   "metadata": {},
   "outputs": [
    {
     "name": "stdout",
     "output_type": "stream",
     "text": [
      "Running: add\n",
      "11\n"
     ]
    }
   ],
   "source": [
    "##✅ 57. Modify the decorator to accept arguments and print function name\n",
    "\n",
    "\n",
    "def log_decorator(func):\n",
    "    def wrapper(*args, **kwargs):\n",
    "        print(f\"Running: {func.__name__}\")\n",
    "        return func(*args, **kwargs)\n",
    "    return wrapper\n",
    "\n",
    "@log_decorator\n",
    "def add(a, b):\n",
    "    print(a + b)\n",
    "\n",
    "add(5, 6)  # Output: Running: add \\n 11\n",
    "\n"
   ]
  },
  {
   "cell_type": "code",
   "execution_count": 68,
   "id": "dc14869c-77a2-4225-876a-59b29bb08b3c",
   "metadata": {},
   "outputs": [
    {
     "name": "stdout",
     "output_type": "stream",
     "text": [
      "Deco1 start\n",
      "Deco2 start\n",
      "Hello!\n",
      "Deco2 end\n",
      "Deco1 end\n"
     ]
    }
   ],
   "source": [
    "##✅ 58. Create two decorators and apply them to a function\n",
    "def deco1(func):\n",
    "    def wrapper():\n",
    "        print(\"Deco1 start\")\n",
    "        func()\n",
    "        print(\"Deco1 end\")\n",
    "    return wrapper\n",
    "\n",
    "def deco2(func):\n",
    "    def wrapper():\n",
    "        print(\"Deco2 start\")\n",
    "        func()\n",
    "        print(\"Deco2 end\")\n",
    "    return wrapper\n",
    "\n",
    "@deco1\n",
    "@deco2\n",
    "def say_hello():\n",
    "    print(\"Hello!\")\n",
    "\n",
    "say_hello()\n"
   ]
  },
  {
   "cell_type": "code",
   "execution_count": 69,
   "id": "0a8caf72-58f9-4ae6-ad28-3a026dd0561d",
   "metadata": {},
   "outputs": [
    {
     "name": "stdout",
     "output_type": "stream",
     "text": [
      "Before call\n",
      "After call\n",
      "12\n"
     ]
    }
   ],
   "source": [
    "##✅ 59. Modify the decorator to pass arguments\n",
    "\n",
    "\n",
    "\n",
    "\n",
    "def my_decorator(func):\n",
    "    def wrapper(*args, **kwargs):\n",
    "        print(\"Before call\")\n",
    "        result = func(*args, **kwargs)\n",
    "        print(\"After call\")\n",
    "        return result\n",
    "    return wrapper\n",
    "\n",
    "@my_decorator\n",
    "def multiply(a, b):\n",
    "    return a * b\n",
    "\n",
    "print(multiply(3, 4))  # Output: 12\n"
   ]
  },
  {
   "cell_type": "code",
   "execution_count": 70,
   "id": "e956d6ea-ac4f-40df-8d03-b022c4671d24",
   "metadata": {},
   "outputs": [
    {
     "name": "stdout",
     "output_type": "stream",
     "text": [
      "my_func\n",
      "This is my function docstring\n"
     ]
    }
   ],
   "source": [
    "##✅ 60. Create a decorator that preserves metadata of original function\n",
    "\n",
    "from functools import wraps\n",
    "\n",
    "def preserve_decorator(func):\n",
    "    @wraps(func)\n",
    "    def wrapper(*args, **kwargs):\n",
    "        return func(*args, **kwargs)\n",
    "    return wrapper\n",
    "\n",
    "@preserve_decorator\n",
    "def my_func():\n",
    "    \"\"\"This is my function docstring\"\"\"\n",
    "    return \"Hello\"\n",
    "\n",
    "print(my_func.__name__)       # Output: my_func\n",
    "print(my_func.__doc__)        # Output: This is my function docstring\n"
   ]
  },
  {
   "cell_type": "code",
   "execution_count": 71,
   "id": "27eea48d-c173-4571-94ef-e4629c76ecc0",
   "metadata": {},
   "outputs": [
    {
     "name": "stdout",
     "output_type": "stream",
     "text": [
      "15\n"
     ]
    }
   ],
   "source": [
    "#✅ 61. Create a Python class Calculator with a static method add\n",
    "class Calculator:\n",
    "    @staticmethod\n",
    "    def add(a, b):\n",
    "        return a + b\n",
    "\n",
    "print(Calculator.add(10, 5))  # Output: 15\n",
    "\n"
   ]
  },
  {
   "cell_type": "code",
   "execution_count": 72,
   "id": "7c66eff7-8e6b-45ec-b2b8-8b8cf85e6b25",
   "metadata": {},
   "outputs": [
    {
     "name": "stdout",
     "output_type": "stream",
     "text": [
      "2\n"
     ]
    }
   ],
   "source": [
    "#✅ 62. Create a class Employee with class method get_employee_count\n",
    "class Employee:\n",
    "    count = 0\n",
    "\n",
    "    def __init__(self):\n",
    "        Employee.count += 1\n",
    "\n",
    "    @classmethod\n",
    "    def get_employee_count(cls):\n",
    "        return cls.count\n",
    "\n",
    "e1 = Employee()\n",
    "e2 = Employee()\n",
    "print(Employee.get_employee_count())  # Output: 2\n"
   ]
  },
  {
   "cell_type": "code",
   "execution_count": 73,
   "id": "43a239b1-b924-4dc1-88c8-1eceef9923d7",
   "metadata": {},
   "outputs": [
    {
     "name": "stdout",
     "output_type": "stream",
     "text": [
      "ahsinaT\n"
     ]
    }
   ],
   "source": [
    "##✅ 63. Create class StringFormatter with static method reverse_string\n",
    "class StringFormatter:\n",
    "    @staticmethod\n",
    "    def reverse_string(s):\n",
    "        return s[::-1]\n",
    "\n",
    "print(StringFormatter.reverse_string(\"Tanisha\"))  # Output: ahsinaT\n"
   ]
  },
  {
   "cell_type": "code",
   "execution_count": 74,
   "id": "4ff3c3f1-8dc3-4648-8fa3-0bd9b8248794",
   "metadata": {},
   "outputs": [
    {
     "name": "stdout",
     "output_type": "stream",
     "text": [
      "78.53981633974483\n"
     ]
    }
   ],
   "source": [
    "##✅ 64. Create class Circle with class method calculate_area\n",
    "\n",
    "import math\n",
    "\n",
    "class Circle:\n",
    "    pi = math.pi\n",
    "\n",
    "    @classmethod\n",
    "    def calculate_area(cls, radius):\n",
    "        return cls.pi * radius ** 2\n",
    "\n",
    "print(Circle.calculate_area(5))  # Output: 78.5398...\n"
   ]
  },
  {
   "cell_type": "code",
   "execution_count": 75,
   "id": "30f6f276-11a3-4036-b19c-39cc0fab29de",
   "metadata": {},
   "outputs": [
    {
     "name": "stdout",
     "output_type": "stream",
     "text": [
      "32.0\n"
     ]
    }
   ],
   "source": [
    "##✅ 65. Class TemperatureConverter with static method celsius_to_fahrenheit\n",
    "class TemperatureConverter:\n",
    "    @staticmethod\n",
    "    def celsius_to_fahrenheit(c):\n",
    "        return (c * 9/5) + 32\n",
    "\n",
    "print(TemperatureConverter.celsius_to_fahrenheit(0))  # Output: 32.0\n"
   ]
  },
  {
   "cell_type": "code",
   "execution_count": 78,
   "id": "82b938d2-2b3c-4a3b-b398-8115e6506103",
   "metadata": {},
   "outputs": [
    {
     "name": "stdout",
     "output_type": "stream",
     "text": [
      "Student name is Tanisha\n"
     ]
    }
   ],
   "source": [
    " ##66. Purpose of __str__() method in Python classes\n",
    " _#_str__() defines how the object should be printed when passed to print().\n",
    "class Student:\n",
    "    def __init__(self, name):\n",
    "        self.name = name\n",
    "\n",
    "    def __str__(self):\n",
    "        return f\"Student name is {self.name}\"\n",
    "\n",
    "s = Student(\"Tanisha\")\n",
    "print(s)  # Output: Student name is Tanisha\n"
   ]
  },
  {
   "cell_type": "code",
   "execution_count": 79,
   "id": "cf9ab1e6-fe52-4994-bcba-e5c296b6e967",
   "metadata": {},
   "outputs": [
    {
     "name": "stdout",
     "output_type": "stream",
     "text": [
      "3\n"
     ]
    }
   ],
   "source": [
    "##✅ 67. How does __len__() method work?\n",
    "##Answer:\n",
    "## __len__() defines the behavior of the built-in len() function for your class.##\n",
    "\n",
    "\n",
    "class Team:\n",
    "    def __init__(self, members):\n",
    "        self.members = members\n",
    "\n",
    "    def __len__(self):\n",
    "        return len(self.members)\n",
    "\n",
    "t = Team([\"A\", \"B\", \"C\"])\n",
    "print(len(t))  # Output: 3\n"
   ]
  },
  {
   "cell_type": "code",
   "execution_count": 80,
   "id": "25d1d3d6-9d3d-4041-b9a2-42501da57634",
   "metadata": {},
   "outputs": [
    {
     "name": "stdout",
     "output_type": "stream",
     "text": [
      "7\n"
     ]
    }
   ],
   "source": [
    "##✅ 68. Usage of __add__() method — Example\n",
    "class Point:\n",
    "    def __init__(self, x):\n",
    "        self.x = x\n",
    "\n",
    "    def __add__(self, other):\n",
    "        return Point(self.x + other.x)\n",
    "\n",
    "p1 = Point(3)\n",
    "p2 = Point(4)\n",
    "p3 = p1 + p2\n",
    "print(p3.x)  # Output: 7\n"
   ]
  },
  {
   "cell_type": "code",
   "execution_count": 81,
   "id": "dd3741ac-df32-4e18-a331-9be49f5ad072",
   "metadata": {},
   "outputs": [
    {
     "name": "stdout",
     "output_type": "stream",
     "text": [
      "20\n"
     ]
    }
   ],
   "source": [
    "##✅ 69. Purpose of __getitem__() method — Example\n",
    "class MyList:\n",
    "    def __init__(self, data):\n",
    "        self.data = data\n",
    "\n",
    "    def __getitem__(self, index):\n",
    "        return self.data[index]\n",
    "\n",
    "ml = MyList([10, 20, 30])\n",
    "print(ml[1])  # Output: 20\n",
    "\n"
   ]
  },
  {
   "cell_type": "code",
   "execution_count": 82,
   "id": "86065115-6ff7-45e3-bb0f-99798a7ba79d",
   "metadata": {},
   "outputs": [
    {
     "name": "stdout",
     "output_type": "stream",
     "text": [
      "1\n",
      "2\n",
      "3\n"
     ]
    }
   ],
   "source": [
    "##✅ 70. Explain __iter__() and __next__() with iterator example\n",
    "class Count:\n",
    "    def __init__(self, limit):\n",
    "        self.num = 0\n",
    "        self.limit = limit\n",
    "\n",
    "    def __iter__(self):\n",
    "        return self\n",
    "\n",
    "    def __next__(self):\n",
    "        if self.num < self.limit:\n",
    "            self.num += 1\n",
    "            return self.num\n",
    "        else:\n",
    "            raise StopIteration\n",
    "\n",
    "c = Count(3)\n",
    "for i in c:\n",
    "    print(i)  # Output: 1 2 3\n",
    "\n"
   ]
  },
  {
   "cell_type": "code",
   "execution_count": 84,
   "id": "f8236f57-bc52-455c-8168-6bb3b56c5d77",
   "metadata": {},
   "outputs": [
    {
     "name": "stdout",
     "output_type": "stream",
     "text": [
      "Tanisha\n"
     ]
    }
   ],
   "source": [
    " ##71. How does encapsulation relate to property decorators?\n",
    "##Answer:\n",
    "# Property decorators help manage access to private attributes, enforcing encapsulation with clean syntax.\n",
    "class Person:\n",
    "    def __init__(self):\n",
    "        self.__name = \"\"\n",
    "\n",
    "    @property\n",
    "    def name(self):\n",
    "        return self.__name\n",
    "\n",
    "    @name.setter\n",
    "    def name(self, value):\n",
    "        self.__name = value\n",
    "\n",
    "\n",
    "p = Person()\n",
    "p.name = \"Tanisha\"\n",
    "print(p.name)  # Output: Tanisha\n",
    "\n",
    "\n",
    "\n"
   ]
  },
  {
   "cell_type": "code",
   "execution_count": null,
   "id": "fa8ae23c-5f01-4613-b8c8-2b0f1e655420",
   "metadata": {},
   "outputs": [],
   "source": []
  }
 ],
 "metadata": {
  "kernelspec": {
   "display_name": "Python [conda env:base] *",
   "language": "python",
   "name": "conda-base-py"
  },
  "language_info": {
   "codemirror_mode": {
    "name": "ipython",
    "version": 3
   },
   "file_extension": ".py",
   "mimetype": "text/x-python",
   "name": "python",
   "nbconvert_exporter": "python",
   "pygments_lexer": "ipython3",
   "version": "3.12.7"
  }
 },
 "nbformat": 4,
 "nbformat_minor": 5
}
